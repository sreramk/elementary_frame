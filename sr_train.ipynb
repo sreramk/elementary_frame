{
 "cells": [
  {
   "cell_type": "markdown",
   "metadata": {},
   "source": [
    "# Main Imports"
   ]
  },
  {
   "cell_type": "code",
   "execution_count": null,
   "metadata": {
    "ExecuteTime": {
     "end_time": "2019-03-26T10:47:34.004973Z",
     "start_time": "2019-03-26T10:47:25.534346Z"
    },
    "run_control": {
     "marked": false
    }
   },
   "outputs": [],
   "source": [
    "from cnn_super_resolution import model\n",
    "from model_saver_manager import model_saver\n",
    "from prepare_dataset.dataset_manager import DataSetManager\n",
    "import numpy as np\n",
    "import cv2"
   ]
  },
  {
   "cell_type": "markdown",
   "metadata": {},
   "source": [
    "# Model Initialization"
   ]
  },
  {
   "cell_type": "code",
   "execution_count": null,
   "metadata": {
    "ExecuteTime": {
     "end_time": "2019-03-26T10:47:44.770789Z",
     "start_time": "2019-03-26T10:47:37.293413Z"
    },
    "run_control": {
     "marked": false
    },
    "scrolled": true
   },
   "outputs": [],
   "source": [
    "model_instance = model.SRModel()\n",
    "parameters = model_instance.get_parameter_tensors()\n",
    "\n",
    "modelsave = model_saver.ModelSaver(\n",
    "    'exp1_', parameters,\n",
    "    save_file_path=\"/media/sreramk/storage-main/elementary_frame/checkpoints/\")\n",
    "\n",
    "model_instance.set_model_saver_inst(modelsave)"
   ]
  },
  {
   "cell_type": "markdown",
   "metadata": {},
   "source": [
    "## Prepare dataset"
   ]
  },
  {
   "cell_type": "code",
   "execution_count": null,
   "metadata": {},
   "outputs": [],
   "source": [
    "model_instance.prepare_train_test_dataset(\n",
    "    ['/media/sreramk/storage-main/elementary_frame/dataset/DIV2K_train_HR/'],\n",
    "    ['/media/sreramk/storage-main/elementary_frame/dataset/DIV2K_valid_HR/'],\n",
    "    num_of_training_ds_to_load=160, num_of_testing_ds_to_load=40,\n",
    "    train_batch_size=10, testing_dimension=(500, 500)\n",
    "    )"
   ]
  },
  {
   "cell_type": "markdown",
   "metadata": {},
   "source": [
    "## Set the train/test loss function(s)"
   ]
  },
  {
   "cell_type": "code",
   "execution_count": null,
   "metadata": {
    "run_control": {
     "marked": false
    }
   },
   "outputs": [],
   "source": [
    "#model_instance.set_rms_loss()\n",
    "#model_instance.set_rms_triplet_loss()\n",
    "model_instance.set_psnr_loss()\n",
    "#model_instance.set_psnr_triplet_loss()"
   ]
  },
  {
   "cell_type": "markdown",
   "metadata": {},
   "source": [
    "## Obtain the image to test with"
   ]
  },
  {
   "cell_type": "code",
   "execution_count": null,
   "metadata": {
    "run_control": {
     "marked": false
    },
    "scrolled": true
   },
   "outputs": [],
   "source": [
    "#model_instance.run_test()\n",
    "#print(\"active loss: \" + model_instance.get_active_loss())\n",
    "#img = np.zeros((500,500,3))\n",
    "#img[:, :] = (0.0, 0.0, 0.0)\n",
    "\n",
    "img = model_instance.fetch_image('/media/sreramk/storage-main/elementary_frame/dataset/DIV2K_valid_HR/0850.png', # '/media/sreramk/storage-main/elementary_frame/dataset/t2.png', #'/media/sreramk/storage-main/elementary_frame/dataset/DIV2K_valid_HR/0891.png',\n",
    "                                 with_batch_column=False)\n",
    "\n",
    "#down_sampled = cv2.resize(img, dsize=(int(len(img[0]) / 4),\n",
    "#                                               int(len(img) / 4)), interpolation=cv2.INTER_NEAREST)\n",
    "\n",
    "#down_sampled = cv2.resize(down_sampled, dsize=(len(img[0]), len(img)),\n",
    "#                                  interpolation=cv2.INTER_NEAREST)\n",
    "#img = cv2.GaussianBlur(down_sampled, (11, 11), 0)\n",
    "##img = 1-img\n",
    "#img = np.flip(img, axis=0)\n",
    "model_instance.display_image(img, figure_size=(50, 50), invert_colors=True)\n",
    "#print (1-img)"
   ]
  },
  {
   "cell_type": "markdown",
   "metadata": {},
   "source": [
    "# Run the training"
   ]
  },
  {
   "cell_type": "code",
   "execution_count": null,
   "metadata": {
    "scrolled": false
   },
   "outputs": [],
   "source": [
    "modelsave.checkpoint_model_arguments(skip_duration=100)\n",
    "model_instance.set_learning_rate(0.01)\n",
    "model_instance.set_momentum(0.01)\n",
    "model_instance.set_optimization_level(1)\n",
    "for i in range(1000):\n",
    "    model_instance.run_train(num_of_epochs=10, reinitialize_train_batch=True, rebase_checkpoints=True)"
   ]
  },
  {
   "cell_type": "markdown",
   "metadata": {},
   "source": [
    "# Explore the result"
   ]
  },
  {
   "cell_type": "code",
   "execution_count": null,
   "metadata": {},
   "outputs": [],
   "source": [
    "_, __, img = DataSetManager.random_crop_img(img, 200, 200)\n",
    "img = model_instance.zoom_image(img, 4, 4)"
   ]
  },
  {
   "cell_type": "code",
   "execution_count": null,
   "metadata": {
    "scrolled": false
   },
   "outputs": [],
   "source": [
    "for i in range(2):\n",
    "    # cv2.imshow(\"im1\", img)\n",
    "    model_instance.display_image(img,  figure_size=(70, 70), invert_colors=False)\n",
    "    result = model_instance.execute_model(input_image=img, return_with_batch_column=False)\n",
    "    # print(result)\n",
    "    model_instance.display_image(result, figure_size=(70, 70))\n",
    "    # cv2.imshow(\"img2\", result)\n",
    "    # cv2.waitKey(0)\n",
    "    # cv2.destroyAllWindows()\n",
    "\n",
    "    img = result\n",
    "\n",
    "img = model_instance.fetch_image(\n",
    "    \"https://cdn.insidetheperimeter.ca/wp-content/uploads/2015/11/Albert_einstein_by_zuzahin-d5pcbug-WikiCommons-768x706.jpg\")\n",
    "size_x, size_y = model_instance.get_image_dimensions(img)\n",
    "\n",
    "%%javascript\n",
    "IPython.OutputArea.auto_scroll_threshold = 9999;"
   ]
  },
  {
   "cell_type": "code",
   "execution_count": null,
   "metadata": {},
   "outputs": [],
   "source": [
    "import numpy"
   ]
  },
  {
   "cell_type": "code",
   "execution_count": null,
   "metadata": {},
   "outputs": [],
   "source": [
    "x= numpy.array([1])"
   ]
  },
  {
   "cell_type": "code",
   "execution_count": null,
   "metadata": {},
   "outputs": [],
   "source": [
    "x = x*3"
   ]
  },
  {
   "cell_type": "code",
   "execution_count": null,
   "metadata": {},
   "outputs": [],
   "source": [
    "x"
   ]
  },
  {
   "cell_type": "markdown",
   "metadata": {},
   "source": [
    "# Rough work"
   ]
  },
  {
   "cell_type": "code",
   "execution_count": null,
   "metadata": {},
   "outputs": [],
   "source": [
    "import cv2"
   ]
  },
  {
   "cell_type": "code",
   "execution_count": null,
   "metadata": {},
   "outputs": [],
   "source": [
    "_, __, img2 = DataSetManager.random_crop_img(img, 100, 100)\n",
    "\n",
    "down_sampled = cv2.resize(img2, dsize=(int(len(img2[0]) / 4),\n",
    "                                           int(len(img2) / 4)), interpolation=cv2.INTER_NEAREST)\n",
    "\n",
    "down_sampled = cv2.resize(down_sampled, dsize=(len(img2[0]), len(img2)),\n",
    "                          interpolation=cv2.INTER_NEAREST)\n",
    "\n",
    "blur = cv2.GaussianBlur(down_sampled,(11,11),0)\n",
    "smooth  = blur\n",
    "#blur = cv2.GaussianBlur(blur,(5,5),0)\n",
    "#smooth = cv2.addWeighted(blur,1.5,img,-0.5,0)\n",
    "#_, __, smooth = DataSetManager.random_crop_img(smooth, 250, 250)"
   ]
  },
  {
   "cell_type": "code",
   "execution_count": null,
   "metadata": {
    "scrolled": false
   },
   "outputs": [],
   "source": [
    "model_instance.display_image(smooth,  figure_size=(70, 70))\n",
    "model_instance.display_image(img2,  figure_size=(70, 70))"
   ]
  },
  {
   "cell_type": "code",
   "execution_count": null,
   "metadata": {},
   "outputs": [],
   "source": [
    "\n",
    "_, __, img2 = DataSetManager.random_crop_img(img, 250, 250)\n",
    "model_instance.display_image(img2, figure_size=(70, 70))"
   ]
  },
  {
   "cell_type": "code",
   "execution_count": null,
   "metadata": {
    "scrolled": false
   },
   "outputs": [],
   "source": [
    "dir(model_instance)"
   ]
  },
  {
   "cell_type": "code",
   "execution_count": null,
   "metadata": {},
   "outputs": [],
   "source": [
    "import inspect\n",
    "import numpy as np\n",
    "inspect.signature(model_instance.get_parameter_tensors)"
   ]
  },
  {
   "cell_type": "code",
   "execution_count": null,
   "metadata": {},
   "outputs": [],
   "source": [
    "x = model_instance.get_parameter_tensors()"
   ]
  },
  {
   "cell_type": "code",
   "execution_count": null,
   "metadata": {},
   "outputs": [],
   "source": [
    "sess = model_instance.get_session()"
   ]
  },
  {
   "cell_type": "code",
   "execution_count": null,
   "metadata": {},
   "outputs": [],
   "source": [
    "y = sess.run(x)"
   ]
  },
  {
   "cell_type": "code",
   "execution_count": null,
   "metadata": {},
   "outputs": [],
   "source": [
    "y"
   ]
  },
  {
   "cell_type": "code",
   "execution_count": null,
   "metadata": {},
   "outputs": [],
   "source": [
    "len (y)"
   ]
  },
  {
   "cell_type": "code",
   "execution_count": null,
   "metadata": {},
   "outputs": [],
   "source": [
    "len(y[5])"
   ]
  },
  {
   "cell_type": "code",
   "execution_count": null,
   "metadata": {},
   "outputs": [],
   "source": [
    "y1 = y[0][0:10, 0:10, 2,0]"
   ]
  },
  {
   "cell_type": "code",
   "execution_count": null,
   "metadata": {},
   "outputs": [],
   "source": [
    "y1"
   ]
  },
  {
   "cell_type": "code",
   "execution_count": null,
   "metadata": {},
   "outputs": [],
   "source": [
    "def display_filter(fimg):\n",
    "    max_val = np.max(fimg)\n",
    "    \n",
    "    \n",
    "    #new_shape = [3]\n",
    "    #new_shape.extend(fimg.shape)\n",
    "    \n",
    "    new_shape = list(fimg.shape)\n",
    "    new_shape.extend([3])\n",
    "    fimg_color = np.zeros(shape=new_shape)\n",
    "    \n",
    "    fimg_color[:,:,0] = np.where(fimg>0, fimg, 0)\n",
    "    fimg_color[:,:,2] = np.where(fimg<0, np.abs(fimg), 0)\n",
    "    fimg_color[:,:,1] = np.where(fimg==0, max_val, 0)\n",
    "    #print(fimg_color.shape)\n",
    "\n",
    "    #print (fimg_color)\n",
    "\n",
    "    model_instance.display_image(fimg_color, figure_size=(70, 70), invert_colors=True)"
   ]
  },
  {
   "cell_type": "code",
   "execution_count": null,
   "metadata": {},
   "outputs": [],
   "source": [
    "np.sum(y[0][0:10, 0:10, 2,2])"
   ]
  },
  {
   "cell_type": "code",
   "execution_count": null,
   "metadata": {
    "scrolled": false
   },
   "outputs": [],
   "source": [
    "\n",
    "fimg = y[0][0:10, 0:10, 2,0]#*np.abs(y[0][0:10, 0:10, 2,0])\n",
    "for i in range(1, 10):\n",
    "    temp = y[0][0:10, 0:10, 2,i] *np.abs(y[0][0:10, 0:10, 2,i])\n",
    "    fimg += y[0][0:10, 0:10, 2,i]#*np.abs(y[0][0:10, 0:10, 2,i])\n",
    "    display_filter(temp)\n",
    "#fimg = fimg/10\n",
    "#fimg = fimg*np.abs(fimg)\n",
    "display_filter(fimg)\n",
    "\n",
    "print (\"Random:\")\n",
    "\n",
    "fimg = np.random.uniform(-1,1, fimg.shape)\n",
    "display_filter(fimg)\n",
    "for i in range(1, 10):\n",
    "    fimg += np.random.uniform(-1,1, fimg.shape)\n",
    "    \n",
    "#print (fimg)\n",
    "fimg = fimg\n",
    "#fimg = fimg*np.abs(fimg)\n",
    "display_filter(fimg)\n"
   ]
  },
  {
   "cell_type": "code",
   "execution_count": null,
   "metadata": {},
   "outputs": [],
   "source": []
  },
  {
   "cell_type": "code",
   "execution_count": null,
   "metadata": {},
   "outputs": [],
   "source": [
    "x = None\n",
    "for i in range(32):\n",
    "    for j in range (3):\n",
    "        if x is None:\n",
    "            x = y[5][0:10, 0:10, 0,0]\n",
    "        else:\n",
    "            x += y[5][0:10, 0:10, i,j]\n",
    "x = x/(32*3)"
   ]
  },
  {
   "cell_type": "code",
   "execution_count": null,
   "metadata": {},
   "outputs": [],
   "source": []
  },
  {
   "cell_type": "code",
   "execution_count": null,
   "metadata": {},
   "outputs": [],
   "source": [
    "import numpy\n",
    "numpy.max(x)"
   ]
  },
  {
   "cell_type": "code",
   "execution_count": null,
   "metadata": {},
   "outputs": [],
   "source": [
    "np.sum(y[0][0:10, 0:10, 2,0])"
   ]
  },
  {
   "cell_type": "code",
   "execution_count": null,
   "metadata": {},
   "outputs": [],
   "source": [
    "np.sum(y[0][0:10, 0:10, 2,1])"
   ]
  },
  {
   "cell_type": "code",
   "execution_count": null,
   "metadata": {},
   "outputs": [],
   "source": [
    "np.sum(y[0][0:10, 0:10, 2,2])"
   ]
  },
  {
   "cell_type": "code",
   "execution_count": null,
   "metadata": {
    "scrolled": false
   },
   "outputs": [],
   "source": [
    "np.sum(y[0][0:10, 0:10, 2,3])"
   ]
  },
  {
   "cell_type": "code",
   "execution_count": null,
   "metadata": {},
   "outputs": [],
   "source": [
    "np.sum(y[0][0:10, 0:10, 2,4])"
   ]
  },
  {
   "cell_type": "code",
   "execution_count": null,
   "metadata": {},
   "outputs": [],
   "source": [
    "np.sum(y[0][0:10, 0:10, 2,5])"
   ]
  },
  {
   "cell_type": "code",
   "execution_count": null,
   "metadata": {},
   "outputs": [],
   "source": [
    "np.sum(y[0][0:10, 0:10, 2,6])"
   ]
  },
  {
   "cell_type": "code",
   "execution_count": null,
   "metadata": {},
   "outputs": [],
   "source": [
    "np.sum(y[0][0:10, 0:10, 2,7])"
   ]
  },
  {
   "cell_type": "code",
   "execution_count": null,
   "metadata": {},
   "outputs": [],
   "source": [
    "np.sum(y[0][0:10, 0:10, 2,8])"
   ]
  },
  {
   "cell_type": "code",
   "execution_count": null,
   "metadata": {},
   "outputs": [],
   "source": [
    "np.sum(y[0][0:10, 0:10, 2,9])"
   ]
  },
  {
   "cell_type": "code",
   "execution_count": null,
   "metadata": {},
   "outputs": [],
   "source": [
    "np.sum(y[0][0:10, 0:10, 2,10])"
   ]
  },
  {
   "cell_type": "code",
   "execution_count": null,
   "metadata": {},
   "outputs": [],
   "source": [
    "np.sum(y[0][0:10, 0:10, 2,11])"
   ]
  },
  {
   "cell_type": "code",
   "execution_count": null,
   "metadata": {
    "scrolled": true
   },
   "outputs": [],
   "source": [
    "np.sum(y[0][0:10, 0:10, 2,12])"
   ]
  },
  {
   "cell_type": "code",
   "execution_count": null,
   "metadata": {},
   "outputs": [],
   "source": []
  },
  {
   "cell_type": "code",
   "execution_count": null,
   "metadata": {},
   "outputs": [],
   "source": []
  }
 ],
 "metadata": {
  "hide_input": false,
  "kernelspec": {
   "display_name": "Python 3",
   "language": "python",
   "name": "python3"
  },
  "language_info": {
   "codemirror_mode": {
    "name": "ipython",
    "version": 3
   },
   "file_extension": ".py",
   "mimetype": "text/x-python",
   "name": "python",
   "nbconvert_exporter": "python",
   "pygments_lexer": "ipython3",
   "version": "3.6.7"
  },
  "latex_envs": {
   "LaTeX_envs_menu_present": true,
   "autoclose": false,
   "autocomplete": true,
   "bibliofile": "biblio.bib",
   "cite_by": "apalike",
   "current_citInitial": 1,
   "eqLabelWithNumbers": true,
   "eqNumInitial": 1,
   "hotkeys": {
    "equation": "Ctrl-E",
    "itemize": "Ctrl-I"
   },
   "labels_anchors": false,
   "latex_user_defs": false,
   "report_style_numbering": false,
   "user_envs_cfg": false
  },
  "nbTranslate": {
   "displayLangs": [
    "*"
   ],
   "hotkey": "alt-t",
   "langInMainMenu": true,
   "sourceLang": "en",
   "targetLang": "fr",
   "useGoogleTranslate": true
  },
  "toc": {
   "base_numbering": 1,
   "nav_menu": {},
   "number_sections": true,
   "sideBar": true,
   "skip_h1_title": false,
   "title_cell": "Table of Contents",
   "title_sidebar": "Contents",
   "toc_cell": false,
   "toc_position": {},
   "toc_section_display": true,
   "toc_window_display": false
  },
  "varInspector": {
   "cols": {
    "lenName": 16,
    "lenType": 16,
    "lenVar": 40
   },
   "kernels_config": {
    "python": {
     "delete_cmd_postfix": "",
     "delete_cmd_prefix": "del ",
     "library": "var_list.py",
     "varRefreshCmd": "print(var_dic_list())"
    },
    "r": {
     "delete_cmd_postfix": ") ",
     "delete_cmd_prefix": "rm(",
     "library": "var_list.r",
     "varRefreshCmd": "cat(var_dic_list()) "
    }
   },
   "types_to_exclude": [
    "module",
    "function",
    "builtin_function_or_method",
    "instance",
    "_Feature"
   ],
   "window_display": false
  }
 },
 "nbformat": 4,
 "nbformat_minor": 1
}
