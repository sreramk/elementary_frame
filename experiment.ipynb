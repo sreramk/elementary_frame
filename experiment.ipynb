{
 "cells": [
  {
   "cell_type": "code",
   "execution_count": null,
   "metadata": {},
   "outputs": [],
   "source": [
    "from prepare_dataset.img_ds_manage import ImageDSManage\n",
    "from cnn_super_resolution.experiment1 import Model2\n",
    "from model_saver_manager import model_saver\n",
    "import inspect"
   ]
  },
  {
   "cell_type": "code",
   "execution_count": 2,
   "metadata": {},
   "outputs": [],
   "source": [
    "img_manager = ImageDSManage([\"/media/sreramk/storage-main/elementary_frame/dataset/DIV2K_train_HR/\"],\n",
    "                                image_buffer_limit=50, buffer_priority=50)"
   ]
  },
  {
   "cell_type": "code",
   "execution_count": 3,
   "metadata": {},
   "outputs": [],
   "source": [
    "\n",
    "model2 = Model2()\n",
    "\n",
    "input_data, expected_output_data = model2.create_place_holders()\n",
    "\n",
    "filters, bisases = model2.create_parameters()\n",
    "\n",
    "parameters = list(filters)\n",
    "parameters.extend(bisases)\n",
    "\n",
    "modelsave = model_saver.ModelSaver('exp1_',parameters,\n",
    "                    save_file_path=\"/media/sreramk/storage-main/elementary_frame/model_checkpoints\")"
   ]
  },
  {
   "cell_type": "code",
   "execution_count": 4,
   "metadata": {},
   "outputs": [
    {
     "data": {
      "text/plain": [
       "['CHECK_POINT_STORE',\n",
       " 'CLOSED',\n",
       " 'DATE_HANDLE_FOR_JSON',\n",
       " 'DEFAULT_CHECKPOINT',\n",
       " 'DEFAULT_EXTENSION',\n",
       " 'DYNAMIC_CHECKPOINT',\n",
       " 'FIRST_CHECKPOINT',\n",
       " 'H_CHECK_POINT_EFFICIENCY',\n",
       " 'H_CHECK_POINT_ID',\n",
       " 'H_CHECK_POINT_NAME',\n",
       " 'H_CHECK_POINT_STORE',\n",
       " 'H_CHECK_POINT_TIME_STAMP',\n",
       " 'H_FREE_CHECK_POINT_ID',\n",
       " 'H_LATEST_CHECK_POINT_ID',\n",
       " 'H_NUM_OF_CHECK_POINT',\n",
       " 'INDEX_FILE_POSTFIX',\n",
       " 'IN_GET_METHOD',\n",
       " 'LAST_CHECKPOINT',\n",
       " 'LATEST_CHECK_POINT_ID',\n",
       " 'MT_PYTORCH',\n",
       " 'MT_TENSORFLOW',\n",
       " 'NONE_CHECKPOINT',\n",
       " 'NOT_IN_GET_METHOD',\n",
       " 'OPEN',\n",
       " 'STATIC_CHECKPOINT',\n",
       " 'TensorFlowParamsHanlde',\n",
       " 'TimeIterSkipManager',\n",
       " '_ModelSaver___save_header',\n",
       " '_ModelSaver__add_header_record_to_header',\n",
       " '_ModelSaver__change_h_check_point_store_keys_type',\n",
       " '_ModelSaver__check_if_files_are_corrupt',\n",
       " '_ModelSaver__check_point_digits',\n",
       " '_ModelSaver__checkpoint_num_to_str',\n",
       " '_ModelSaver__checkpoint_record',\n",
       " '_ModelSaver__converter_instance',\n",
       " '_ModelSaver__create_header_structure',\n",
       " '_ModelSaver__create_record_header_structure',\n",
       " '_ModelSaver__create_record_structure',\n",
       " '_ModelSaver__delete_header_record',\n",
       " '_ModelSaver__ensure_exactly_one_field',\n",
       " '_ModelSaver__ensure_first_run',\n",
       " '_ModelSaver__extension',\n",
       " '_ModelSaver__first',\n",
       " '_ModelSaver__first_run',\n",
       " '_ModelSaver__get_checkpoint_addr',\n",
       " '_ModelSaver__get_checkpoint_header',\n",
       " '_ModelSaver__get_checkpoint_index_addr',\n",
       " '_ModelSaver__get_latest_checkpoint_safe',\n",
       " '_ModelSaver__get_new_checkpoint_id',\n",
       " '_ModelSaver__header',\n",
       " '_ModelSaver__header_address',\n",
       " '_ModelSaver__header_initialized',\n",
       " '_ModelSaver__header_not_initialized',\n",
       " '_ModelSaver__last',\n",
       " '_ModelSaver__load_header',\n",
       " '_ModelSaver__new_header',\n",
       " '_ModelSaver__new_record',\n",
       " '_ModelSaver__resolve_checkpoint_id',\n",
       " '_ModelSaver__save_checkpoint_record',\n",
       " '_ModelSaver__save_file_path',\n",
       " '_ModelSaver__save_name',\n",
       " '_ModelSaver__time_iter_skip',\n",
       " '__class__',\n",
       " '__delattr__',\n",
       " '__dict__',\n",
       " '__dir__',\n",
       " '__doc__',\n",
       " '__eq__',\n",
       " '__format__',\n",
       " '__ge__',\n",
       " '__getattribute__',\n",
       " '__gt__',\n",
       " '__hash__',\n",
       " '__init__',\n",
       " '__init_subclass__',\n",
       " '__le__',\n",
       " '__lt__',\n",
       " '__module__',\n",
       " '__ne__',\n",
       " '__new__',\n",
       " '__reduce__',\n",
       " '__reduce_ex__',\n",
       " '__repr__',\n",
       " '__setattr__',\n",
       " '__sizeof__',\n",
       " '__str__',\n",
       " '__subclasshook__',\n",
       " '__weakref__',\n",
       " 'change_working_tensor_prams',\n",
       " 'checkpoint_model',\n",
       " 'commit_all',\n",
       " 'create_check_point',\n",
       " 'delete_all_saved_states',\n",
       " 'delete_checkpoint',\n",
       " 'get_checkpoint_name',\n",
       " 'load_checkpoint',\n",
       " 'query_checkpoint_info',\n",
       " 'query_get_first_record',\n",
       " 'query_get_last_record',\n",
       " 'set_first_run',\n",
       " 'set_not_first_run']"
      ]
     },
     "execution_count": 4,
     "metadata": {},
     "output_type": "execute_result"
    }
   ],
   "source": [
    "dir(modelsave)"
   ]
  },
  {
   "cell_type": "code",
   "execution_count": 5,
   "metadata": {},
   "outputs": [
    {
     "data": {
      "text/plain": [
       "<Signature (check_point_id_range=None, check_point_time_range=None, check_point_serial_number_range=None, check_point_efficiency_range=None, left_range=1, right_range=1)>"
      ]
     },
     "execution_count": 5,
     "metadata": {},
     "output_type": "execute_result"
    }
   ],
   "source": [
    "inspect.signature(modelsave.query_checkpoint_info)"
   ]
  },
  {
   "cell_type": "code",
   "execution_count": 6,
   "metadata": {},
   "outputs": [
    {
     "data": {
      "text/plain": [
       "[OrderedDict([('h_check_point_efficiency', 0.016644787043333054),\n",
       "              ('h_check_point_time_stamp', '2019-02-24T00:45:08.666702'),\n",
       "              ('h_check_point_name', 'exp1_00086'),\n",
       "              ('h_check_point_ID', 86)]),\n",
       " OrderedDict([('h_check_point_efficiency', 0.00789495836943388),\n",
       "              ('h_check_point_time_stamp', '2019-02-24T00:45:09.954506'),\n",
       "              ('h_check_point_name', 'exp1_00087'),\n",
       "              ('h_check_point_ID', 87)]),\n",
       " OrderedDict([('h_check_point_efficiency', 0.023155273869633675),\n",
       "              ('h_check_point_time_stamp', '2019-02-24T00:45:11.235973'),\n",
       "              ('h_check_point_name', 'exp1_00088'),\n",
       "              ('h_check_point_ID', 88)])]"
      ]
     },
     "execution_count": 6,
     "metadata": {},
     "output_type": "execute_result"
    }
   ],
   "source": [
    "modelsave.query_checkpoint_info(check_point_time_range=('2019-02-24T00:45:05.455760', '2019-02-24T00:45:12.607582') , left_range=modelsave.OPEN, right_range=modelsave.OPEN)"
   ]
  },
  {
   "cell_type": "code",
   "execution_count": 7,
   "metadata": {
    "scrolled": false
   },
   "outputs": [
    {
     "name": "stdout",
     "output_type": "stream",
     "text": [
      "    def query_checkpoint_info(self, check_point_id_range=None,\n",
      "                              check_point_time_range=None,\n",
      "                              check_point_serial_number_range=None,\n",
      "                              check_point_efficiency_range=None,\n",
      "                              left_range=CLOSED,\n",
      "                              right_range=CLOSED\n",
      "                              ):\n",
      "        \"\"\"\n",
      "        Out of the given parameters, only one of the parameters must be a valid range, or this method will throw an\n",
      "        exception.\n",
      "        :param right_range:\n",
      "        :param left_range:\n",
      "        :param check_point_id_range:\n",
      "        :param check_point_time_range:\n",
      "        :param check_point_serial_number_range: if the records are r1, r4, r7, r8, r9, r10, as an example, with the\n",
      "                                                value representing the ID, the position in the listing represents the\n",
      "                                                serial number. That is, it is just the record count range, starting from\n",
      "                                                the beginning.\n",
      "        :param check_point_efficiency_range:\n",
      "        :return: the record details which can be used to load the data.\n",
      "        \"\"\"\n",
      "        field_name = self.__ensure_exactly_one_field(check_point_id_range=check_point_id_range,\n",
      "                                                     check_point_time_range=check_point_time_range,\n",
      "                                                     check_point_serial_number_range=check_point_serial_number_range,\n",
      "                                                     check_point_efficiency_range=check_point_efficiency_range)\n",
      "        result = []\n",
      "        checkpoint_store = self.__header[ModelSaver.H_CHECK_POINT_STORE]\n",
      "\n",
      "        def compute_beg_end(checkpoint_range):\n",
      "            beg = checkpoint_range[0]\n",
      "            end = checkpoint_range[1]\n",
      "\n",
      "            if left_range == ModelSaver.CLOSED and right_range == ModelSaver.CLOSED:\n",
      "                def compare(beg, val, end):\n",
      "                    return beg <= val <= end\n",
      "            elif left_range == ModelSaver.CLOSED and right_range == ModelSaver.OPEN:\n",
      "                def compare(beg, val, end):\n",
      "                    return beg <= val < end\n",
      "            elif left_range == ModelSaver.OPEN and right_range == ModelSaver.CLOSED:\n",
      "                def compare(beg, val, end):\n",
      "                    return beg < val <= end\n",
      "            elif left_range == ModelSaver.OPEN and right_range == ModelSaver.OPEN:\n",
      "                def compare(beg, val, end):\n",
      "                    return beg < val < end\n",
      "            else:\n",
      "                raise InvalidLeftRightArgumentCombination\n",
      "\n",
      "            return beg, end, compare\n",
      "\n",
      "        def save_to_result(checkpoint_id):\n",
      "            temp = copy.deepcopy(checkpoint_store[checkpoint_id])\n",
      "            temp[ModelSaver.H_CHECK_POINT_ID] = checkpoint_id\n",
      "            result.append(temp)\n",
      "\n",
      "        def range_match_store(checkpoint_range, key=None):\n",
      "            store_iterator = iter(checkpoint_store)\n",
      "            beg, end, compare = compute_beg_end(checkpoint_range)\n",
      "\n",
      "            if key is None:\n",
      "                def default_key(val):\n",
      "                    return val\n",
      "\n",
      "                key = default_key\n",
      "\n",
      "            while True:\n",
      "                try:\n",
      "                    rec_id = next(store_iterator)\n",
      "                except StopIteration:\n",
      "                    break\n",
      "\n",
      "                value = key(rec_id)  # checkpoint_store[rec_id][ModelSaver.H_CHECK_POINT_EFFICIENCY]\n",
      "                if value > end:\n",
      "                    break\n",
      "\n",
      "                if compare(beg, value, end):\n",
      "                    save_to_result(rec_id)\n",
      "\n",
      "        if field_name == 'check_point_id_range':\n",
      "            # Note that the key is the ID, in the header for each record, stored in the header file under the\n",
      "            # category ModelSaver.H_CHECK_POINT_STORE\n",
      "            range_match_store(check_point_id_range)\n",
      "            return result\n",
      "\n",
      "        elif field_name == 'check_point_time_range':\n",
      "\n",
      "            def time_key(cur_id):\n",
      "                return checkpoint_store[cur_id][ModelSaver.H_CHECK_POINT_TIME_STAMP]\n",
      "\n",
      "            range_match_store(check_point_time_range, key=time_key)\n",
      "            return result\n",
      "\n",
      "        elif field_name == 'check_point_serial_number_range':\n",
      "            beg, end, compare = compute_beg_end(check_point_serial_number_range)\n",
      "\n",
      "            items_list = checkpoint_store.items()\n",
      "            i = beg\n",
      "\n",
      "            while i < end:\n",
      "\n",
      "                if compare(beg, i, end):\n",
      "                    save_to_result(items_list[i][0])\n",
      "                elif i > end:\n",
      "                    break\n",
      "\n",
      "                i += 1\n",
      "\n",
      "            return result\n",
      "\n",
      "        elif field_name == 'check_point_efficiency_range':\n",
      "\n",
      "            def efficiency_key(cur_id):\n",
      "                return checkpoint_store[cur_id][ModelSaver.H_CHECK_POINT_EFFICIENCY]\n",
      "\n",
      "            range_match_store(check_point_efficiency_range, key=efficiency_key)\n",
      "\n",
      "            result.sort(key=efficiency_key)\n",
      "\n",
      "            return result\n",
      "\n"
     ]
    }
   ],
   "source": [
    "cod= inspect.getsource(modelsave.query_checkpoint_info)\n",
    "print(cod)"
   ]
  },
  {
   "cell_type": "code",
   "execution_count": 8,
   "metadata": {},
   "outputs": [
    {
     "ename": "TypeError",
     "evalue": "set_tensors() missing 1 required positional argument: 'sess'",
     "traceback": [
      "\u001b[0;31m---------------------------------------------------------------------------\u001b[0m",
      "\u001b[0;31mTypeError\u001b[0m                                 Traceback (most recent call last)",
      "\u001b[0;32m<ipython-input-8-d9dd6b79de41>\u001b[0m in \u001b[0;36m<module>\u001b[0;34m\u001b[0m\n\u001b[0;32m----> 1\u001b[0;31m \u001b[0mmodelsave\u001b[0m\u001b[0;34m.\u001b[0m\u001b[0mload_checkpoint\u001b[0m\u001b[0;34m(\u001b[0m\u001b[0mcheckpoint_id\u001b[0m\u001b[0;34m=\u001b[0m\u001b[0;36m87\u001b[0m\u001b[0;34m)\u001b[0m\u001b[0;34m\u001b[0m\u001b[0;34m\u001b[0m\u001b[0m\n\u001b[0m",
      "\u001b[0;32m/media/sreramk/storage-main/elementary_frame/model_saver_manager/model_saver.py\u001b[0m in \u001b[0;36mload_checkpoint\u001b[0;34m(self, checkpoint_id, load_tensors, commit, reset, **args)\u001b[0m\n\u001b[1;32m    436\u001b[0m                 \u001b[0mself\u001b[0m\u001b[0;34m.\u001b[0m\u001b[0m__header\u001b[0m\u001b[0;34m[\u001b[0m\u001b[0mModelSaver\u001b[0m\u001b[0;34m.\u001b[0m\u001b[0mH_LATEST_CHECK_POINT_ID\u001b[0m\u001b[0;34m]\u001b[0m \u001b[0;34m=\u001b[0m \u001b[0mcheckpoint_id\u001b[0m\u001b[0;34m\u001b[0m\u001b[0;34m\u001b[0m\u001b[0m\n\u001b[1;32m    437\u001b[0m                 \u001b[0;32mif\u001b[0m \u001b[0mload_tensors\u001b[0m\u001b[0;34m:\u001b[0m\u001b[0;34m\u001b[0m\u001b[0;34m\u001b[0m\u001b[0m\n\u001b[0;32m--> 438\u001b[0;31m                     \u001b[0mself\u001b[0m\u001b[0;34m.\u001b[0m\u001b[0m__converter_instance\u001b[0m\u001b[0;34m.\u001b[0m\u001b[0mset_tensors\u001b[0m\u001b[0;34m(\u001b[0m\u001b[0mpyprams\u001b[0m\u001b[0;34m,\u001b[0m \u001b[0;34m**\u001b[0m\u001b[0margs\u001b[0m\u001b[0;34m)\u001b[0m\u001b[0;34m\u001b[0m\u001b[0;34m\u001b[0m\u001b[0m\n\u001b[0m\u001b[1;32m    439\u001b[0m                 \u001b[0;32mif\u001b[0m \u001b[0mcommit\u001b[0m\u001b[0;34m:\u001b[0m\u001b[0;34m\u001b[0m\u001b[0;34m\u001b[0m\u001b[0m\n\u001b[1;32m    440\u001b[0m                     \u001b[0mself\u001b[0m\u001b[0;34m.\u001b[0m\u001b[0m___save_header\u001b[0m\u001b[0;34m(\u001b[0m\u001b[0;34m)\u001b[0m\u001b[0;34m\u001b[0m\u001b[0;34m\u001b[0m\u001b[0m\n",
      "\u001b[0;31mTypeError\u001b[0m: set_tensors() missing 1 required positional argument: 'sess'"
     ],
     "output_type": "error"
    }
   ],
   "source": [
    "modelsave.load_checkpoint(checkpoint_id=87, load_tensors=False)"
   ]
  },
  {
   "cell_type": "code",
   "execution_count": null,
   "metadata": {},
   "outputs": [],
   "source": []
  },
  {
   "cell_type": "code",
   "execution_count": null,
   "metadata": {},
   "outputs": [],
   "source": []
  }
 ],
 "metadata": {
  "kernelspec": {
   "display_name": "Python 3",
   "language": "python",
   "name": "python3"
  },
  "language_info": {
   "codemirror_mode": {
    "name": "ipython",
    "version": 3
   },
   "file_extension": ".py",
   "mimetype": "text/x-python",
   "name": "python",
   "nbconvert_exporter": "python",
   "pygments_lexer": "ipython3",
   "version": "3.6.7"
  }
 },
 "nbformat": 4,
 "nbformat_minor": 1
}
