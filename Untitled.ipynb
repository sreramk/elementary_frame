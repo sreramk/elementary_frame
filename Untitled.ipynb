{
 "cells": [
  {
   "cell_type": "code",
   "execution_count": null,
   "metadata": {},
   "outputs": [],
   "source": [
    "import inspect"
   ]
  },
  {
   "cell_type": "code",
   "execution_count": 2,
   "metadata": {},
   "outputs": [],
   "source": [
    "def fnc(a:int, b:int, c:int, d = 10, e=15, f=20):\n",
    "    return a + b + c"
   ]
  },
  {
   "cell_type": "code",
   "execution_count": 3,
   "metadata": {},
   "outputs": [],
   "source": [
    "x = inspect.signature(fnc)"
   ]
  },
  {
   "cell_type": "code",
   "execution_count": null,
   "metadata": {},
   "outputs": [
    {
     "data": {
      "text/plain": [
       "<Signature (a:int, b:int, c:int, d=10, e=15, f=20)>"
      ]
     },
     "execution_count": 4,
     "metadata": {},
     "output_type": "execute_result"
    }
   ],
   "source": [
    "x"
   ]
  },
  {
   "cell_type": "code",
   "execution_count": 5,
   "metadata": {},
   "outputs": [
    {
     "data": {
      "text/plain": [
       "['__class__',\n",
       " '__delattr__',\n",
       " '__dir__',\n",
       " '__doc__',\n",
       " '__eq__',\n",
       " '__format__',\n",
       " '__ge__',\n",
       " '__getattribute__',\n",
       " '__gt__',\n",
       " '__hash__',\n",
       " '__init__',\n",
       " '__init_subclass__',\n",
       " '__le__',\n",
       " '__lt__',\n",
       " '__module__',\n",
       " '__ne__',\n",
       " '__new__',\n",
       " '__reduce__',\n",
       " '__reduce_ex__',\n",
       " '__repr__',\n",
       " '__setattr__',\n",
       " '__setstate__',\n",
       " '__sizeof__',\n",
       " '__slots__',\n",
       " '__str__',\n",
       " '__subclasshook__',\n",
       " '_bind',\n",
       " '_bound_arguments_cls',\n",
       " '_hash_basis',\n",
       " '_parameter_cls',\n",
       " '_parameters',\n",
       " '_return_annotation',\n",
       " 'bind',\n",
       " 'bind_partial',\n",
       " 'empty',\n",
       " 'from_builtin',\n",
       " 'from_callable',\n",
       " 'from_function',\n",
       " 'parameters',\n",
       " 'replace',\n",
       " 'return_annotation']"
      ]
     },
     "execution_count": 5,
     "metadata": {},
     "output_type": "execute_result"
    }
   ],
   "source": [
    "dir(x)"
   ]
  },
  {
   "cell_type": "code",
   "execution_count": 6,
   "metadata": {},
   "outputs": [
    {
     "data": {
      "text/plain": [
       "mappingproxy({'a': <Parameter \"a:int\">,\n",
       "              'b': <Parameter \"b:int\">,\n",
       "              'c': <Parameter \"c:int\">,\n",
       "              'd': <Parameter \"d=10\">,\n",
       "              'e': <Parameter \"e=15\">,\n",
       "              'f': <Parameter \"f=20\">})"
      ]
     },
     "execution_count": 6,
     "metadata": {},
     "output_type": "execute_result"
    }
   ],
   "source": [
    "x.parameters"
   ]
  },
  {
   "cell_type": "code",
   "execution_count": 7,
   "metadata": {},
   "outputs": [
    {
     "data": {
      "text/plain": [
       "['__class__',\n",
       " '__contains__',\n",
       " '__delattr__',\n",
       " '__dir__',\n",
       " '__doc__',\n",
       " '__eq__',\n",
       " '__format__',\n",
       " '__ge__',\n",
       " '__getattribute__',\n",
       " '__getitem__',\n",
       " '__gt__',\n",
       " '__hash__',\n",
       " '__init__',\n",
       " '__init_subclass__',\n",
       " '__iter__',\n",
       " '__le__',\n",
       " '__len__',\n",
       " '__lt__',\n",
       " '__ne__',\n",
       " '__new__',\n",
       " '__reduce__',\n",
       " '__reduce_ex__',\n",
       " '__repr__',\n",
       " '__setattr__',\n",
       " '__sizeof__',\n",
       " '__str__',\n",
       " '__subclasshook__',\n",
       " 'copy',\n",
       " 'get',\n",
       " 'items',\n",
       " 'keys',\n",
       " 'values']"
      ]
     },
     "execution_count": 7,
     "metadata": {},
     "output_type": "execute_result"
    }
   ],
   "source": [
    "dir(x.parameters)"
   ]
  },
  {
   "cell_type": "code",
   "execution_count": 8,
   "metadata": {},
   "outputs": [
    {
     "name": "stdout",
     "output_type": "stream",
     "text": [
      "a\n",
      "b\n",
      "c\n",
      "d\n",
      "e\n",
      "f\n",
      "6\n",
      "f=20\n"
     ]
    }
   ],
   "source": [
    "for l in x.parameters:\n",
    "    print (l)\n",
    "print (len(x.parameters))\n",
    "\n",
    "print(x.parameters['f'])\n"
   ]
  },
  {
   "cell_type": "code",
   "execution_count": null,
   "metadata": {},
   "outputs": [],
   "source": []
  },
  {
   "cell_type": "code",
   "execution_count": 9,
   "metadata": {},
   "outputs": [
    {
     "data": {
      "text/plain": [
       "inspect.Parameter"
      ]
     },
     "execution_count": 9,
     "metadata": {},
     "output_type": "execute_result"
    }
   ],
   "source": [
    "type(x.parameters.get('a'))"
   ]
  },
  {
   "cell_type": "code",
   "execution_count": 10,
   "metadata": {},
   "outputs": [
    {
     "data": {
      "text/plain": [
       "<Parameter \"a:int\">"
      ]
     },
     "execution_count": 10,
     "metadata": {},
     "output_type": "execute_result"
    }
   ],
   "source": [
    "x.parameters['a']"
   ]
  },
  {
   "cell_type": "code",
   "execution_count": 11,
   "metadata": {},
   "outputs": [
    {
     "data": {
      "text/plain": [
       "inspect.Parameter"
      ]
     },
     "execution_count": 11,
     "metadata": {},
     "output_type": "execute_result"
    }
   ],
   "source": [
    "type(x.parameters['a'])"
   ]
  },
  {
   "cell_type": "code",
   "execution_count": 12,
   "metadata": {},
   "outputs": [
    {
     "name": "stdout",
     "output_type": "stream",
     "text": [
      "    def __str__(self):\n",
      "        kind = self.kind\n",
      "        formatted = self._name\n",
      "\n",
      "        # Add annotation and default value\n",
      "        if self._annotation is not _empty:\n",
      "            formatted = '{}:{}'.format(formatted,\n",
      "                                       formatannotation(self._annotation))\n",
      "\n",
      "        if self._default is not _empty:\n",
      "            formatted = '{}={}'.format(formatted, repr(self._default))\n",
      "\n",
      "        if kind == _VAR_POSITIONAL:\n",
      "            formatted = '*' + formatted\n",
      "        elif kind == _VAR_KEYWORD:\n",
      "            formatted = '**' + formatted\n",
      "\n",
      "        return formatted\n",
      "\n"
     ]
    }
   ],
   "source": [
    "print(inspect.getsource(x.parameters['a'].__str__))"
   ]
  },
  {
   "cell_type": "code",
   "execution_count": 13,
   "metadata": {},
   "outputs": [
    {
     "name": "stdout",
     "output_type": "stream",
     "text": [
      "POSITIONAL_OR_KEYWORD\n"
     ]
    }
   ],
   "source": [
    "print(x.parameters['a'].kind)"
   ]
  },
  {
   "cell_type": "code",
   "execution_count": 14,
   "metadata": {},
   "outputs": [],
   "source": [
    "class BaseClass:\n",
    "    \n",
    "    def __init__(self):\n",
    "        pass\n",
    "    \n",
    "    def _fnc1(self):\n",
    "        pass\n",
    "    \n",
    "    def _fnc2(self):\n",
    "        pass\n",
    "    \n",
    "    def call_fnc(self):\n",
    "        self._fnc1()\n",
    "        self._fnc2()\n",
    "        \n",
    "\n",
    "class Derived(BaseClass):\n",
    "    \n",
    "    def __init__(self):\n",
    "        super().__init__()\n",
    "    \n",
    "    def _fnc1(self):\n",
    "        print(\"hello\")\n",
    "    \n",
    "    def _fnc2(self):\n",
    "        print(\"hello\")\n",
    "    \n",
    "        "
   ]
  },
  {
   "cell_type": "code",
   "execution_count": 15,
   "metadata": {},
   "outputs": [],
   "source": [
    "d = Derived()"
   ]
  },
  {
   "cell_type": "code",
   "execution_count": 16,
   "metadata": {},
   "outputs": [
    {
     "name": "stdout",
     "output_type": "stream",
     "text": [
      "hello\n",
      "hello\n"
     ]
    }
   ],
   "source": [
    "d.call_fnc()"
   ]
  },
  {
   "cell_type": "code",
   "execution_count": 17,
   "metadata": {},
   "outputs": [
    {
     "name": "stdout",
     "output_type": "stream",
     "text": [
      "hello\n"
     ]
    }
   ],
   "source": [
    "d._fnc1()"
   ]
  },
  {
   "cell_type": "code",
   "execution_count": 18,
   "metadata": {},
   "outputs": [],
   "source": [
    "from model_saver_manager.model_saver import ModelSaver"
   ]
  },
  {
   "cell_type": "code",
   "execution_count": 19,
   "metadata": {},
   "outputs": [
    {
     "data": {
      "text/plain": [
       "['CHECK_POINT_STORE',\n",
       " 'CLOSED',\n",
       " 'DEFAULT_CHECKPOINT',\n",
       " 'DEFAULT_EXTENSION',\n",
       " 'DEFAULT_REBASE_BEST_CHECKPOINT_RADIUS',\n",
       " 'DYNAMIC_CHECKPOINT',\n",
       " 'FIRST_CHECKPOINT',\n",
       " 'H_CHECK_POINT_EFFICIENCY',\n",
       " 'H_CHECK_POINT_ID',\n",
       " 'H_CHECK_POINT_NAME',\n",
       " 'H_CHECK_POINT_STORE',\n",
       " 'H_CHECK_POINT_TIME_STAMP',\n",
       " 'H_FREE_CHECK_POINT_ID',\n",
       " 'H_LATEST_CHECK_POINT_ID',\n",
       " 'H_NUM_OF_CHECK_POINT',\n",
       " 'INDEX_FILE_POSTFIX',\n",
       " 'IN_GET_METHOD',\n",
       " 'LAST_CHECKPOINT',\n",
       " 'LATEST_CHECK_POINT_ID',\n",
       " 'MT_PYTORCH',\n",
       " 'MT_TENSORFLOW',\n",
       " 'NONE_CHECKPOINT',\n",
       " 'NOT_IN_GET_METHOD',\n",
       " 'OPEN',\n",
       " 'REBASE_BEST_CHECKPOINT',\n",
       " 'REBASE_CHECKPOINT_IGNORE',\n",
       " 'REBASE_IGNORE_BAD_CHECKPOINT',\n",
       " 'STATIC_CHECKPOINT',\n",
       " 'TimeIterSkipManager',\n",
       " '_ModelSaver__DATE_HANDLE_FOR_JSON',\n",
       " '_ModelSaver__DEFAULT_CHECKPOINT_MODEL_ARGS',\n",
       " '_ModelSaver___save_header',\n",
       " '_ModelSaver__add_header_record_to_header',\n",
       " '_ModelSaver__change_h_check_point_store_keys_type',\n",
       " '_ModelSaver__check_if_files_are_corrupt',\n",
       " '_ModelSaver__checkpoint_num_to_str',\n",
       " '_ModelSaver__create_header_structure',\n",
       " '_ModelSaver__create_record_header_structure',\n",
       " '_ModelSaver__create_record_structure',\n",
       " '_ModelSaver__delete_header_record',\n",
       " '_ModelSaver__ensure_exactly_one_field',\n",
       " '_ModelSaver__ensure_first_run',\n",
       " '_ModelSaver__ensure_range',\n",
       " '_ModelSaver__first',\n",
       " '_ModelSaver__get_checkpoint_addr',\n",
       " '_ModelSaver__get_checkpoint_header',\n",
       " '_ModelSaver__get_checkpoint_index_addr',\n",
       " '_ModelSaver__get_checkpoint_store',\n",
       " '_ModelSaver__get_from_checkpoint_store',\n",
       " '_ModelSaver__get_last_assigned_id',\n",
       " '_ModelSaver__get_new_checkpoint_id',\n",
       " '_ModelSaver__header_initialized',\n",
       " '_ModelSaver__header_not_initialized',\n",
       " '_ModelSaver__initialize_header',\n",
       " '_ModelSaver__initialize_model',\n",
       " '_ModelSaver__last',\n",
       " '_ModelSaver__load_header',\n",
       " '_ModelSaver__new_header',\n",
       " '_ModelSaver__new_record',\n",
       " '_ModelSaver__rebase_best_checkpoint',\n",
       " '_ModelSaver__rebase_ignore_bad_checkpoint',\n",
       " '_ModelSaver__resolve_checkpoint_id',\n",
       " '_ModelSaver__save_checkpoint_record',\n",
       " '__class__',\n",
       " '__delattr__',\n",
       " '__dict__',\n",
       " '__dir__',\n",
       " '__doc__',\n",
       " '__eq__',\n",
       " '__format__',\n",
       " '__ge__',\n",
       " '__getattribute__',\n",
       " '__gt__',\n",
       " '__hash__',\n",
       " '__init__',\n",
       " '__init_subclass__',\n",
       " '__le__',\n",
       " '__lt__',\n",
       " '__module__',\n",
       " '__ne__',\n",
       " '__new__',\n",
       " '__reduce__',\n",
       " '__reduce_ex__',\n",
       " '__repr__',\n",
       " '__setattr__',\n",
       " '__sizeof__',\n",
       " '__str__',\n",
       " '__subclasshook__',\n",
       " '__weakref__',\n",
       " 'change_working_tensor_prams',\n",
       " 'checkpoint_model',\n",
       " 'checkpoint_model_default_args',\n",
       " 'commit_all',\n",
       " 'create_check_point',\n",
       " 'delete_all_saved_states',\n",
       " 'delete_checkpoint',\n",
       " 'get_checkpoint_name',\n",
       " 'load_checkpoint',\n",
       " 'query_checkpoint_info',\n",
       " 'query_get_first_record',\n",
       " 'query_get_last_record',\n",
       " 'set_first_run',\n",
       " 'set_not_first_run']"
      ]
     },
     "execution_count": 19,
     "metadata": {},
     "output_type": "execute_result"
    }
   ],
   "source": [
    "dir(ModelSaver)"
   ]
  },
  {
   "cell_type": "code",
   "execution_count": 20,
   "metadata": {},
   "outputs": [],
   "source": [
    "def get_default_args(func):\n",
    "    signature = inspect.signature(func)\n",
    "    return {\n",
    "        k: v.default \n",
    "        for k, v in signature.parameters.items()\n",
    "        if v.default is not inspect.Parameter.empty\n",
    "    }"
   ]
  },
  {
   "cell_type": "code",
   "execution_count": 21,
   "metadata": {},
   "outputs": [
    {
     "name": "stdout",
     "output_type": "stream",
     "text": [
      "{'d': 10, 'e': 15, 'f': 20}\n"
     ]
    }
   ],
   "source": [
    "print(get_default_args(fnc))"
   ]
  },
  {
   "cell_type": "code",
   "execution_count": 22,
   "metadata": {},
   "outputs": [],
   "source": [
    "def get_default_prams(func):\n",
    "    signature = inspect.signature(func)\n",
    "    return [\n",
    "        k \n",
    "        for k, v in signature.parameters.items()\n",
    "        if v.default is inspect.Parameter.empty\n",
    "    ]"
   ]
  },
  {
   "cell_type": "code",
   "execution_count": 23,
   "metadata": {},
   "outputs": [
    {
     "name": "stdout",
     "output_type": "stream",
     "text": [
      "['a', 'b', 'c']\n"
     ]
    }
   ],
   "source": [
    "print (get_default_prams(fnc))"
   ]
  },
  {
   "cell_type": "code",
   "execution_count": 24,
   "metadata": {},
   "outputs": [],
   "source": [
    "def list_public_attributes(input_var):\n",
    "    return [k for k, v in vars(input_var).items() if\n",
    "            not (k.startswith('_') or callable(v))]"
   ]
  },
  {
   "cell_type": "code",
   "execution_count": 25,
   "metadata": {},
   "outputs": [
    {
     "data": {
      "text/plain": [
       "['DEFAULT_EXTENSION',\n",
       " 'INDEX_FILE_POSTFIX',\n",
       " 'STATIC_CHECKPOINT',\n",
       " 'DYNAMIC_CHECKPOINT',\n",
       " 'NONE_CHECKPOINT',\n",
       " 'LAST_CHECKPOINT',\n",
       " 'FIRST_CHECKPOINT',\n",
       " 'DEFAULT_CHECKPOINT',\n",
       " 'LATEST_CHECK_POINT_ID',\n",
       " 'IN_GET_METHOD',\n",
       " 'NOT_IN_GET_METHOD',\n",
       " 'OPEN',\n",
       " 'CLOSED',\n",
       " 'H_NUM_OF_CHECK_POINT',\n",
       " 'H_FREE_CHECK_POINT_ID',\n",
       " 'H_LATEST_CHECK_POINT_ID',\n",
       " 'H_CHECK_POINT_STORE',\n",
       " 'H_CHECK_POINT_ID',\n",
       " 'H_CHECK_POINT_NAME',\n",
       " 'H_CHECK_POINT_TIME_STAMP',\n",
       " 'H_CHECK_POINT_EFFICIENCY',\n",
       " 'CHECK_POINT_STORE',\n",
       " 'REBASE_BEST_CHECKPOINT',\n",
       " 'REBASE_IGNORE_BAD_CHECKPOINT',\n",
       " 'REBASE_CHECKPOINT_IGNORE',\n",
       " 'DEFAULT_REBASE_BEST_CHECKPOINT_RADIUS',\n",
       " 'MT_TENSORFLOW',\n",
       " 'MT_PYTORCH',\n",
       " 'checkpoint_model_default_args']"
      ]
     },
     "execution_count": 25,
     "metadata": {},
     "output_type": "execute_result"
    }
   ],
   "source": [
    "list_public_attributes(ModelSaver)"
   ]
  },
  {
   "cell_type": "code",
   "execution_count": 26,
   "metadata": {},
   "outputs": [],
   "source": [
    "def list_public_items(input_var):\n",
    "    return [k for k, v in vars(input_var).items() if\n",
    "            not k.startswith('_') and callable(v)]"
   ]
  },
  {
   "cell_type": "code",
   "execution_count": 27,
   "metadata": {},
   "outputs": [
    {
     "data": {
      "text/plain": [
       "['TimeIterSkipManager',\n",
       " 'delete_checkpoint',\n",
       " 'load_checkpoint',\n",
       " 'change_working_tensor_prams',\n",
       " 'create_check_point',\n",
       " 'delete_all_saved_states',\n",
       " 'set_first_run',\n",
       " 'set_not_first_run',\n",
       " 'checkpoint_model',\n",
       " 'query_get_last_record',\n",
       " 'query_get_first_record',\n",
       " 'query_checkpoint_info',\n",
       " 'commit_all',\n",
       " 'get_checkpoint_name']"
      ]
     },
     "execution_count": 27,
     "metadata": {},
     "output_type": "execute_result"
    }
   ],
   "source": [
    "list_public_items(ModelSaver)"
   ]
  },
  {
   "cell_type": "code",
   "execution_count": 28,
   "metadata": {},
   "outputs": [],
   "source": [
    "from enum import Enum"
   ]
  },
  {
   "cell_type": "code",
   "execution_count": 29,
   "metadata": {},
   "outputs": [],
   "source": [
    "class Something(Enum):\n",
    "    S1= \"s1\"\n",
    "    S2= \"s2\""
   ]
  },
  {
   "cell_type": "code",
   "execution_count": 30,
   "metadata": {},
   "outputs": [],
   "source": [
    "s = Something(\"s1\")"
   ]
  },
  {
   "cell_type": "code",
   "execution_count": 31,
   "metadata": {},
   "outputs": [
    {
     "data": {
      "text/plain": [
       "<Something.S1: 's1'>"
      ]
     },
     "execution_count": 31,
     "metadata": {},
     "output_type": "execute_result"
    }
   ],
   "source": [
    "s"
   ]
  },
  {
   "cell_type": "code",
   "execution_count": 32,
   "metadata": {},
   "outputs": [],
   "source": [
    "y = Something.S1"
   ]
  },
  {
   "cell_type": "code",
   "execution_count": 33,
   "metadata": {},
   "outputs": [
    {
     "data": {
      "text/plain": [
       "<Something.S1: 's1'>"
      ]
     },
     "execution_count": 33,
     "metadata": {},
     "output_type": "execute_result"
    }
   ],
   "source": [
    "y"
   ]
  },
  {
   "cell_type": "code",
   "execution_count": 34,
   "metadata": {},
   "outputs": [
    {
     "data": {
      "text/plain": [
       "False"
      ]
     },
     "execution_count": 34,
     "metadata": {},
     "output_type": "execute_result"
    }
   ],
   "source": [
    "y != Something.S1"
   ]
  },
  {
   "cell_type": "code",
   "execution_count": 35,
   "metadata": {},
   "outputs": [
    {
     "data": {
      "text/plain": [
       "15"
      ]
     },
     "execution_count": 35,
     "metadata": {},
     "output_type": "execute_result"
    }
   ],
   "source": [
    "a = [1,2,3,4,5]\n",
    "sum(a)"
   ]
  },
  {
   "cell_type": "code",
   "execution_count": 36,
   "metadata": {},
   "outputs": [],
   "source": [
    "import operator"
   ]
  },
  {
   "cell_type": "code",
   "execution_count": 37,
   "metadata": {},
   "outputs": [
    {
     "data": {
      "text/plain": [
       "['__abs__',\n",
       " '__add__',\n",
       " '__all__',\n",
       " '__and__',\n",
       " '__builtins__',\n",
       " '__cached__',\n",
       " '__concat__',\n",
       " '__contains__',\n",
       " '__delitem__',\n",
       " '__doc__',\n",
       " '__eq__',\n",
       " '__file__',\n",
       " '__floordiv__',\n",
       " '__ge__',\n",
       " '__getitem__',\n",
       " '__gt__',\n",
       " '__iadd__',\n",
       " '__iand__',\n",
       " '__iconcat__',\n",
       " '__ifloordiv__',\n",
       " '__ilshift__',\n",
       " '__imatmul__',\n",
       " '__imod__',\n",
       " '__imul__',\n",
       " '__index__',\n",
       " '__inv__',\n",
       " '__invert__',\n",
       " '__ior__',\n",
       " '__ipow__',\n",
       " '__irshift__',\n",
       " '__isub__',\n",
       " '__itruediv__',\n",
       " '__ixor__',\n",
       " '__le__',\n",
       " '__loader__',\n",
       " '__lshift__',\n",
       " '__lt__',\n",
       " '__matmul__',\n",
       " '__mod__',\n",
       " '__mul__',\n",
       " '__name__',\n",
       " '__ne__',\n",
       " '__neg__',\n",
       " '__not__',\n",
       " '__or__',\n",
       " '__package__',\n",
       " '__pos__',\n",
       " '__pow__',\n",
       " '__rshift__',\n",
       " '__setitem__',\n",
       " '__spec__',\n",
       " '__sub__',\n",
       " '__truediv__',\n",
       " '__xor__',\n",
       " '_abs',\n",
       " 'abs',\n",
       " 'add',\n",
       " 'and_',\n",
       " 'attrgetter',\n",
       " 'concat',\n",
       " 'contains',\n",
       " 'countOf',\n",
       " 'delitem',\n",
       " 'eq',\n",
       " 'floordiv',\n",
       " 'ge',\n",
       " 'getitem',\n",
       " 'gt',\n",
       " 'iadd',\n",
       " 'iand',\n",
       " 'iconcat',\n",
       " 'ifloordiv',\n",
       " 'ilshift',\n",
       " 'imatmul',\n",
       " 'imod',\n",
       " 'imul',\n",
       " 'index',\n",
       " 'indexOf',\n",
       " 'inv',\n",
       " 'invert',\n",
       " 'ior',\n",
       " 'ipow',\n",
       " 'irshift',\n",
       " 'is_',\n",
       " 'is_not',\n",
       " 'isub',\n",
       " 'itemgetter',\n",
       " 'itruediv',\n",
       " 'ixor',\n",
       " 'le',\n",
       " 'length_hint',\n",
       " 'lshift',\n",
       " 'lt',\n",
       " 'matmul',\n",
       " 'methodcaller',\n",
       " 'mod',\n",
       " 'mul',\n",
       " 'ne',\n",
       " 'neg',\n",
       " 'not_',\n",
       " 'or_',\n",
       " 'pos',\n",
       " 'pow',\n",
       " 'rshift',\n",
       " 'setitem',\n",
       " 'sub',\n",
       " 'truediv',\n",
       " 'truth',\n",
       " 'xor']"
      ]
     },
     "execution_count": 37,
     "metadata": {},
     "output_type": "execute_result"
    }
   ],
   "source": [
    "dir(operator)"
   ]
  },
  {
   "cell_type": "code",
   "execution_count": 38,
   "metadata": {},
   "outputs": [],
   "source": [
    "s1 = Something(\"s1\")"
   ]
  },
  {
   "cell_type": "code",
   "execution_count": 39,
   "metadata": {},
   "outputs": [
    {
     "data": {
      "text/plain": [
       "True"
      ]
     },
     "execution_count": 39,
     "metadata": {},
     "output_type": "execute_result"
    }
   ],
   "source": [
    "s1 is Something.S1"
   ]
  },
  {
   "cell_type": "code",
   "execution_count": 40,
   "metadata": {},
   "outputs": [
    {
     "data": {
      "text/plain": [
       "[0, 1, 2, 3, 4, 5, 6, 7, 8, 9]"
      ]
     },
     "execution_count": 40,
     "metadata": {},
     "output_type": "execute_result"
    }
   ],
   "source": [
    "[x for x in range(10)]"
   ]
  },
  {
   "cell_type": "code",
   "execution_count": 41,
   "metadata": {},
   "outputs": [],
   "source": [
    "from argparse import Namespace"
   ]
  },
  {
   "cell_type": "code",
   "execution_count": 42,
   "metadata": {},
   "outputs": [],
   "source": [
    "d = {'a':10, 'b':20}"
   ]
  },
  {
   "cell_type": "code",
   "execution_count": 43,
   "metadata": {},
   "outputs": [],
   "source": [
    "n = Namespace(**d)"
   ]
  },
  {
   "cell_type": "code",
   "execution_count": 44,
   "metadata": {},
   "outputs": [
    {
     "data": {
      "text/plain": [
       "['__class__',\n",
       " '__contains__',\n",
       " '__delattr__',\n",
       " '__dict__',\n",
       " '__dir__',\n",
       " '__doc__',\n",
       " '__eq__',\n",
       " '__format__',\n",
       " '__ge__',\n",
       " '__getattribute__',\n",
       " '__gt__',\n",
       " '__hash__',\n",
       " '__init__',\n",
       " '__init_subclass__',\n",
       " '__le__',\n",
       " '__lt__',\n",
       " '__module__',\n",
       " '__ne__',\n",
       " '__new__',\n",
       " '__reduce__',\n",
       " '__reduce_ex__',\n",
       " '__repr__',\n",
       " '__setattr__',\n",
       " '__sizeof__',\n",
       " '__str__',\n",
       " '__subclasshook__',\n",
       " '__weakref__',\n",
       " '_get_args',\n",
       " '_get_kwargs',\n",
       " 'a',\n",
       " 'b']"
      ]
     },
     "execution_count": 44,
     "metadata": {},
     "output_type": "execute_result"
    }
   ],
   "source": [
    "dir(n)"
   ]
  },
  {
   "cell_type": "code",
   "execution_count": 45,
   "metadata": {},
   "outputs": [
    {
     "data": {
      "text/plain": [
       "10"
      ]
     },
     "execution_count": 45,
     "metadata": {},
     "output_type": "execute_result"
    }
   ],
   "source": [
    "n.a"
   ]
  },
  {
   "cell_type": "code",
   "execution_count": 46,
   "metadata": {},
   "outputs": [
    {
     "data": {
      "text/plain": [
       "20"
      ]
     },
     "execution_count": 46,
     "metadata": {},
     "output_type": "execute_result"
    }
   ],
   "source": [
    "n.b"
   ]
  },
  {
   "cell_type": "code",
   "execution_count": 47,
   "metadata": {},
   "outputs": [
    {
     "data": {
      "text/plain": [
       "{'a': 10, 'b': 20}"
      ]
     },
     "execution_count": 47,
     "metadata": {},
     "output_type": "execute_result"
    }
   ],
   "source": [
    "d"
   ]
  },
  {
   "cell_type": "code",
   "execution_count": 48,
   "metadata": {},
   "outputs": [],
   "source": [
    "e = d"
   ]
  },
  {
   "cell_type": "code",
   "execution_count": 49,
   "metadata": {},
   "outputs": [],
   "source": [
    "e.update({'x':20})"
   ]
  },
  {
   "cell_type": "code",
   "execution_count": 50,
   "metadata": {},
   "outputs": [
    {
     "data": {
      "text/plain": [
       "{'a': 10, 'b': 20, 'x': 20}"
      ]
     },
     "execution_count": 50,
     "metadata": {},
     "output_type": "execute_result"
    }
   ],
   "source": [
    "e"
   ]
  },
  {
   "cell_type": "code",
   "execution_count": 51,
   "metadata": {},
   "outputs": [
    {
     "data": {
      "text/plain": [
       "{'a': 10, 'b': 20, 'x': 20}"
      ]
     },
     "execution_count": 51,
     "metadata": {},
     "output_type": "execute_result"
    }
   ],
   "source": [
    "d"
   ]
  },
  {
   "cell_type": "code",
   "execution_count": 52,
   "metadata": {},
   "outputs": [],
   "source": [
    "e = dict(d)"
   ]
  },
  {
   "cell_type": "code",
   "execution_count": 53,
   "metadata": {},
   "outputs": [
    {
     "data": {
      "text/plain": [
       "{'a': 10, 'b': 20, 'x': 20}"
      ]
     },
     "execution_count": 53,
     "metadata": {},
     "output_type": "execute_result"
    }
   ],
   "source": [
    "e"
   ]
  },
  {
   "cell_type": "code",
   "execution_count": 58,
   "metadata": {},
   "outputs": [],
   "source": [
    "e.update({\"a\":60})"
   ]
  },
  {
   "cell_type": "code",
   "execution_count": 59,
   "metadata": {},
   "outputs": [
    {
     "data": {
      "text/plain": [
       "{'a': 60, 'b': 20, 'x': 20, 'y': 60}"
      ]
     },
     "execution_count": 59,
     "metadata": {},
     "output_type": "execute_result"
    }
   ],
   "source": [
    "e"
   ]
  },
  {
   "cell_type": "code",
   "execution_count": 56,
   "metadata": {},
   "outputs": [
    {
     "data": {
      "text/plain": [
       "{'a': 10, 'b': 20, 'x': 20}"
      ]
     },
     "execution_count": 56,
     "metadata": {},
     "output_type": "execute_result"
    }
   ],
   "source": [
    "d"
   ]
  },
  {
   "cell_type": "code",
   "execution_count": 57,
   "metadata": {},
   "outputs": [
    {
     "ename": "SyntaxError",
     "evalue": "invalid syntax (<ipython-input-57-4fb99323c4f6>, line 1)",
     "traceback": [
      "\u001b[0;36m  File \u001b[0;32m\"<ipython-input-57-4fb99323c4f6>\"\u001b[0;36m, line \u001b[0;32m1\u001b[0m\n\u001b[0;31m    **n\u001b[0m\n\u001b[0m     ^\u001b[0m\n\u001b[0;31mSyntaxError\u001b[0m\u001b[0;31m:\u001b[0m invalid syntax\n"
     ],
     "output_type": "error"
    }
   ],
   "source": [
    "**n"
   ]
  },
  {
   "cell_type": "code",
   "execution_count": 60,
   "metadata": {},
   "outputs": [
    {
     "data": {
      "text/plain": [
       "Namespace(a=10, b=20)"
      ]
     },
     "execution_count": 60,
     "metadata": {},
     "output_type": "execute_result"
    }
   ],
   "source": [
    "n"
   ]
  },
  {
   "cell_type": "code",
   "execution_count": 61,
   "metadata": {},
   "outputs": [],
   "source": [
    "n.x = 10"
   ]
  },
  {
   "cell_type": "code",
   "execution_count": 62,
   "metadata": {},
   "outputs": [
    {
     "data": {
      "text/plain": [
       "Namespace(a=10, b=20, x=10)"
      ]
     },
     "execution_count": 62,
     "metadata": {},
     "output_type": "execute_result"
    }
   ],
   "source": [
    "n"
   ]
  },
  {
   "cell_type": "code",
   "execution_count": null,
   "metadata": {},
   "outputs": [],
   "source": []
  }
 ],
 "metadata": {
  "kernelspec": {
   "display_name": "Python 3",
   "language": "python",
   "name": "python3"
  },
  "language_info": {
   "codemirror_mode": {
    "name": "ipython",
    "version": 3
   },
   "file_extension": ".py",
   "mimetype": "text/x-python",
   "name": "python",
   "nbconvert_exporter": "python",
   "pygments_lexer": "ipython3",
   "version": "3.6.7"
  }
 },
 "nbformat": 4,
 "nbformat_minor": 2
}
